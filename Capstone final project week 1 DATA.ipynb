{
    "cells": [
        {
            "metadata": {
                "collapsed": true
            },
            "cell_type": "markdown",
            "source": "# Introduction / business problem\n\nIn a city of Helsinki, if someone is looking to open a caf\u00e9 restaurant, the question is, where would you recommend that they open it? The background of the problem is that in order for a caf\u00e9 to be profitable, there must be enough customers, and in order to have enough customers, it is not worth setting up a caf\u00e9 in the immediate promixity of existing ones.\nLet's also make sure that audience is explicitly defined to be the local restaurant entrepreuners in Helsinki and they should care about this problem because the location of the new caf\u00e9 has a significant impact on the expected returns.\n\n\n# Data\n\n\nA description of the data: the data used to solve this problem is geolocation data collected from FourSquare. Adequate explanation and discussion, with examples, of the data is the following. Data is a single dataframe, containing at least a location of the caf\u00e9. Explanation of the location data is a standard tuple (lat, lng), where lat stands for latitude and lng for longitude. Some other metadata like name, postal code and so on is also collected, but let us discuss that they are not absolutely necessary for the analysis. Example of the data:\n\n| identifier\t| Name\t| Shortname\t| Address\t| Postalcode\t| Latitude\t| Londitude |\n|---------------|-------|-----------|-----------|---------------|-----------|-----------|\n| 4ddd2d44b0fba481fc927360\t| Patisserie Teemu & Markus | Bakery |\tYrj\u00f6nkatu 25\t| 00100 |\t60.167899 |\t24.938190 |\n| 50f688d5e4b023d2f274b506\t|\tKaffecentralen\t|\tCoffee Shop\t|\tFredrikinkatu 59\t|\t00100\t|\t60.167580\t|\t24.932526\t|\n| 5aec747112f0a9002c9b92ab\t|\tLa Torrefazione\t|\tCaf\u00e9\t|\tMannerheimintie 22\t|\t00100\t|\t60.170721\t|\t24.936158\t|\n| 4b4cb879f964a520c0bb26e3\t|\tThe Ounce\t|\tTea Room\t|\tFredrikinkatu 55\t|\t00100\t|\t60.167182\t|\t24.932993\t|\n| 4af1c9e2f964a52031e321e3\t|\tLa Torrefazione\t|\tCoffee Shop\t|\tAleksanterinkatu 50\t|\t00100\t|\t60.168877\t|\t24.943845\t|\n\nData will be used in the following way: by knowing the locations of already existing cafes, it's possible to apply unsupervised learning technique like kernel density estimation (KDE) to determine the area of influence of the existing cafes, and start up new caf\u00e9 which is not in the area of influence."
        },
        {
            "metadata": {},
            "cell_type": "code",
            "source": "",
            "execution_count": null,
            "outputs": []
        }
    ],
    "metadata": {
        "kernelspec": {
            "name": "python3",
            "display_name": "Python 3.6",
            "language": "python"
        },
        "language_info": {
            "name": "python",
            "version": "3.6.9",
            "mimetype": "text/x-python",
            "codemirror_mode": {
                "name": "ipython",
                "version": 3
            },
            "pygments_lexer": "ipython3",
            "nbconvert_exporter": "python",
            "file_extension": ".py"
        }
    },
    "nbformat": 4,
    "nbformat_minor": 1
}