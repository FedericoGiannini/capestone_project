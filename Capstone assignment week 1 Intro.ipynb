{
    "cells": [
        {
            "metadata": {
                "collapsed": true
            },
            "cell_type": "markdown",
            "source": "# Capstone Project - Cafes in Helsinki\n\n\n## Introduction / business problem\n\nIn a city of Helsinki, if someone is looking to open a caf\u00e9 restaurant, the question is, where would you recommend that they open it? \nThe background of the problem is that in order for a caf\u00e9 to be profitable, there must be enough customers, and in order to have enough customers, it is not worth setting up a caf\u00e9 in the immediate promixity of existing ones.\n\nLet's also make sure that audience is explicitly defined to be the local restaurant entrepreuners in Helsinki and they should care about this problem because the location of the new caf\u00e9 has a significant impact on the expected returns."
        },
        {
            "metadata": {},
            "cell_type": "code",
            "source": "",
            "execution_count": null,
            "outputs": []
        }
    ],
    "metadata": {
        "kernelspec": {
            "name": "python3",
            "display_name": "Python 3.6",
            "language": "python"
        },
        "language_info": {
            "name": "python",
            "version": "3.6.9",
            "mimetype": "text/x-python",
            "codemirror_mode": {
                "name": "ipython",
                "version": 3
            },
            "pygments_lexer": "ipython3",
            "nbconvert_exporter": "python",
            "file_extension": ".py"
        }
    },
    "nbformat": 4,
    "nbformat_minor": 1
}